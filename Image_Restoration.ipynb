{
 "cells": [
  {
   "cell_type": "markdown",
   "id": "a6121f26",
   "metadata": {},
   "source": [
    "# Image Restoration"
   ]
  },
  {
   "cell_type": "markdown",
   "id": "d7539e5a",
   "metadata": {},
   "source": [
    "## Library Imports"
   ]
  },
  {
   "cell_type": "code",
   "execution_count": 1,
   "id": "10ded6a0",
   "metadata": {},
   "outputs": [
    {
     "name": "stderr",
     "output_type": "stream",
     "text": [
      "C:\\kandikits\\deepfake-detection\\deepfake-detection-env\\lib\\site-packages\\_distutils_hack\\__init__.py:33: UserWarning: Setuptools is replacing distutils.\n",
      "  warnings.warn(\"Setuptools is replacing distutils.\")\n"
     ]
    }
   ],
   "source": [
    "import os\n",
    "import cv2\n",
    "import gradio as gr\n",
    "import torch\n",
    "from gfpgan.utils import GFPGANer\n",
    "os.system(\"hub install deoldify==1.0.1\")\n",
    "import paddlehub as hub\n",
    "from pathlib import Path\n",
    "from datetime import datetime"
   ]
  },
  {
   "cell_type": "markdown",
   "id": "4dab2d74",
   "metadata": {},
   "source": [
    "## Image Colorization"
   ]
  },
  {
   "cell_type": "markdown",
   "id": "3da3e66f",
   "metadata": {},
   "source": [
    "#### Load model checkpoint and define function logic for colorization"
   ]
  },
  {
   "cell_type": "code",
   "execution_count": 2,
   "id": "8066e31d",
   "metadata": {},
   "outputs": [
    {
     "name": "stdout",
     "output_type": "stream",
     "text": [
      "load pretrained checkpoint success\n"
     ]
    }
   ],
   "source": [
    "model = hub.Module(name='deoldify')\n",
    "render_factor=35"
   ]
  },
  {
   "cell_type": "code",
   "execution_count": 32,
   "id": "325f8002",
   "metadata": {},
   "outputs": [],
   "source": [
    "def colorize_image(image):\n",
    "    if not os.path.exists(\"./output\"):\n",
    "        os.makedirs(\"./output\")   \n",
    "    result = model.predict(image)\n",
    "    return result[0],result[1]"
   ]
  },
  {
   "cell_type": "markdown",
   "id": "68e2b6e4",
   "metadata": {},
   "source": [
    "## Image Upscaling and Enhancement"
   ]
  },
  {
   "cell_type": "markdown",
   "id": "305b6634",
   "metadata": {},
   "source": [
    "#### Load model checkpoint and define function logic for upscaling and enhancement"
   ]
  },
  {
   "cell_type": "code",
   "execution_count": null,
   "id": "6c6f46f9",
   "metadata": {},
   "outputs": [],
   "source": [
    "def inference(img, scale):\n",
    "    try:\n",
    "        extension = os.path.splitext(os.path.basename(str(img)))[1]\n",
    "        img = cv2.imread(img, cv2.IMREAD_UNCHANGED)\n",
    "        if len(img.shape) == 3 and img.shape[2] == 4:\n",
    "            img_mode = 'RGBA'\n",
    "        elif len(img.shape) == 2:  # for gray inputs\n",
    "            img_mode = None\n",
    "            img = cv2.cvtColor(img, cv2.COLOR_GRAY2BGR)\n",
    "        else:\n",
    "            img_mode = None\n",
    "\n",
    "        h, w = img.shape[0:2]\n",
    "        if h < 300:\n",
    "            img = cv2.resize(img, (w * 2, h * 2), interpolation=cv2.INTER_LANCZOS4)\n",
    "\n",
    "        face_enhancer = GFPGANer(\n",
    "        model_path='GFPGANv1.4.pth', upscale=2, arch='clean', channel_multiplier=2)\n",
    "\n",
    "        try:\n",
    "            _, _, output = face_enhancer.enhance(img, has_aligned=False, only_center_face=False, paste_back=True)\n",
    "        except RuntimeError as error:\n",
    "            print('Error', error)\n",
    "\n",
    "        try:\n",
    "            if scale != 2:\n",
    "                interpolation = cv2.INTER_AREA if scale < 2 else cv2.INTER_LANCZOS4\n",
    "                h, w = img.shape[0:2]\n",
    "                output = cv2.resize(output, (int(w * scale / 2), int(h * scale / 2)), interpolation=interpolation)\n",
    "        except Exception as error:\n",
    "            print('wrong scale input.', error)\n",
    "        if img_mode == 'RGBA':  # RGBA images should be saved in png format\n",
    "            extension = 'png'\n",
    "        else:\n",
    "            extension = 'jpg'\n",
    "        save_path = f'output/out.{extension}'\n",
    "        cv2.imwrite(save_path, output)\n",
    "\n",
    "        output = cv2.cvtColor(output, cv2.COLOR_BGR2RGB)\n",
    "        return output, save_path\n",
    "    except Exception as error:\n",
    "        print('global exception', error)\n",
    "        return None, None"
   ]
  },
  {
   "cell_type": "markdown",
   "id": "f5c9863f",
   "metadata": {},
   "source": [
    "## Gradio Interface"
   ]
  },
  {
   "cell_type": "markdown",
   "id": "6306706b",
   "metadata": {},
   "source": [
    "#### Interface for colorization"
   ]
  },
  {
   "cell_type": "code",
   "execution_count": 53,
   "id": "e0b1b21b",
   "metadata": {},
   "outputs": [],
   "source": [
    "interface1 = gr.Interface(\n",
    "    colorize_image, [\n",
    "        gr.Image(type=\"filepath\",label=\"Input Image\")\n",
    "    ], [\n",
    "        gr.outputs.Image(type=\"numpy\", label=\"Output Image\"),\n",
    "        gr.outputs.File(label=\"Download the output image\")\n",
    "    ],\n",
    "    description=\"Colorize B/W, Grayscale images\")"
   ]
  },
  {
   "cell_type": "markdown",
   "id": "a12ac42a",
   "metadata": {},
   "source": [
    "#### Interface for upscaling/enhancement"
   ]
  },
  {
   "cell_type": "code",
   "execution_count": 54,
   "id": "3eff2010",
   "metadata": {},
   "outputs": [],
   "source": [
    "interface2 = gr.Interface(\n",
    "    inference, [\n",
    "        gr.inputs.Image(type=\"filepath\", label=\"Input Image\"),\n",
    "        gr.inputs.Number(label=\"Rescaling factor\", default=2),\n",
    "    ], [\n",
    "        gr.outputs.Image(type=\"numpy\", label=\"Output Image\"),\n",
    "        gr.outputs.File(label=\"Download the output image\")\n",
    "    ],\n",
    "    description = \"Upscale and enhance Images\")"
   ]
  },
  {
   "cell_type": "markdown",
   "id": "5cdda445",
   "metadata": {},
   "source": [
    "#### Combined Interface"
   ]
  },
  {
   "cell_type": "code",
   "execution_count": 87,
   "id": "d946739c",
   "metadata": {},
   "outputs": [
    {
     "name": "stdout",
     "output_type": "stream",
     "text": [
      "Running on local URL:  http://127.0.0.1:7904\n",
      "\n",
      "To create a public link, set `share=True` in `launch()`.\n"
     ]
    },
    {
     "data": {
      "text/html": [
       "<div><iframe src=\"http://127.0.0.1:7904/\" width=\"100%\" height=\"500\" allow=\"autoplay; camera; microphone; clipboard-read; clipboard-write;\" frameborder=\"0\" allowfullscreen></iframe></div>"
      ],
      "text/plain": [
       "<IPython.core.display.HTML object>"
      ]
     },
     "metadata": {},
     "output_type": "display_data"
    },
    {
     "data": {
      "text/plain": []
     },
     "execution_count": 87,
     "metadata": {},
     "output_type": "execute_result"
    }
   ],
   "source": [
    "title = \"Image Restoration\"\n",
    "final_interface = gr.TabbedInterface([interface1, interface2], [\"Colorization\", \"Enhancement\"], title=title,theme=gr.themes.Default())\n",
    "final_interface.launch(inbrowser=True)"
   ]
  },
  {
   "cell_type": "code",
   "execution_count": null,
   "id": "1802324f",
   "metadata": {},
   "outputs": [],
   "source": []
  }
 ],
 "metadata": {
  "kernelspec": {
   "display_name": "Python 3 (ipykernel)",
   "language": "python",
   "name": "python3"
  },
  "language_info": {
   "codemirror_mode": {
    "name": "ipython",
    "version": 3
   },
   "file_extension": ".py",
   "mimetype": "text/x-python",
   "name": "python",
   "nbconvert_exporter": "python",
   "pygments_lexer": "ipython3",
   "version": "3.9.8"
  }
 },
 "nbformat": 4,
 "nbformat_minor": 5
}
